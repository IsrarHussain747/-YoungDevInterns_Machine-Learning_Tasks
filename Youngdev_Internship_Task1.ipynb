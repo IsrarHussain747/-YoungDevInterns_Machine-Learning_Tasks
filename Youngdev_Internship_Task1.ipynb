{
  "nbformat": 4,
  "nbformat_minor": 0,
  "metadata": {
    "colab": {
      "provenance": []
    },
    "kernelspec": {
      "name": "python3",
      "display_name": "Python 3"
    },
    "language_info": {
      "name": "python"
    }
  },
  "cells": [
    {
      "cell_type": "code",
      "execution_count": 1,
      "metadata": {
        "colab": {
          "base_uri": "https://localhost:8080/"
        },
        "id": "TwsaRN1LffAf",
        "outputId": "98a1ab11-561b-4fcf-ff82-57e1e3f00b8b"
      },
      "outputs": [
        {
          "output_type": "stream",
          "name": "stdout",
          "text": [
            "Mounted at /content/drive\n"
          ]
        }
      ],
      "source": [
        "from google.colab import drive\n",
        "drive.mount('/content/drive')\n"
      ]
    },
    {
      "cell_type": "code",
      "source": [
        "import numpy as np\n",
        "import pandas as pd\n",
        "import matplotlib.pyplot as plt\n",
        "from sklearn.model_selection import train_test_split\n",
        "from sklearn.linear_model import LinearRegression\n",
        "from sklearn.metrics import mean_absolute_error, mean_squared_error, r2_score\n"
      ],
      "metadata": {
        "id": "nGI-enVChGMo"
      },
      "execution_count": 2,
      "outputs": []
    },
    {
      "cell_type": "code",
      "source": [
        "# Generate sample data (e.g., study hours vs exam score)\n",
        "np.random.seed(42)\n",
        "X = 2.5 * np.random.randn(50, 1) + 5  # Independent variable (e.g., study hours)\n",
        "y = 2 * X + np.random.randn(50, 1) * 2  # Dependent variable (e.g., exam scores)\n",
        "\n",
        "# Convert to DataFrame\n",
        "df = pd.DataFrame({\"Study Hours\": X.flatten(), \"Exam Score\": y.flatten()})\n",
        "\n",
        "# Display first few rows\n",
        "print(df.head())\n"
      ],
      "metadata": {
        "colab": {
          "base_uri": "https://localhost:8080/"
        },
        "id": "b7KsG5fRhIqg",
        "outputId": "9bb0c197-ea04-4fbb-a221-c23565894f5a"
      },
      "execution_count": 3,
      "outputs": [
        {
          "output_type": "stream",
          "name": "stdout",
          "text": [
            "   Study Hours  Exam Score\n",
            "0     6.241785   13.131739\n",
            "1     4.654339    8.538514\n",
            "2     6.619221   11.884599\n",
            "3     8.807575   18.838502\n",
            "4     4.414617   10.891232\n"
          ]
        }
      ]
    },
    {
      "cell_type": "code",
      "source": [
        "# Split data into training and testing sets (80% train, 20% test)\n",
        "X_train, X_test, y_train, y_test = train_test_split(X, y, test_size=0.2, random_state=42)\n"
      ],
      "metadata": {
        "id": "7-mCYSDfhQXD"
      },
      "execution_count": 4,
      "outputs": []
    },
    {
      "cell_type": "code",
      "source": [
        "# Create a Linear Regression model\n",
        "lr = LinearRegression()\n",
        "\n",
        "# Train the model\n",
        "lr.fit(X_train, y_train)\n",
        "\n",
        "# Get the slope (coefficient) and intercept\n",
        "print(f\"Coefficient (Slope): {lr.coef_[0][0]}\")\n",
        "print(f\"Intercept: {lr.intercept_[0]}\")\n"
      ],
      "metadata": {
        "colab": {
          "base_uri": "https://localhost:8080/"
        },
        "id": "xiLoKHUGhVRX",
        "outputId": "e5be85d8-bd45-42c4-9f65-134154874965"
      },
      "execution_count": 5,
      "outputs": [
        {
          "output_type": "stream",
          "name": "stdout",
          "text": [
            "Coefficient (Slope): 1.9891156578538864\n",
            "Intercept: 0.07528908398569811\n"
          ]
        }
      ]
    },
    {
      "cell_type": "code",
      "source": [
        "# Predict on test data\n",
        "y_pred = lr.predict(X_test)\n"
      ],
      "metadata": {
        "id": "7ej5QmaPhcvU"
      },
      "execution_count": 6,
      "outputs": []
    },
    {
      "cell_type": "code",
      "source": [
        "mae = mean_absolute_error(y_test, y_pred)\n",
        "mse = mean_squared_error(y_test, y_pred)\n",
        "r2 = r2_score(y_test, y_pred)\n",
        "\n",
        "print(f\"Mean Absolute Error (MAE): {mae}\")\n",
        "print(f\"Mean Squared Error (MSE): {mse}\")\n",
        "print(f\"R-squared Score: {r2}\")\n"
      ],
      "metadata": {
        "colab": {
          "base_uri": "https://localhost:8080/"
        },
        "id": "HdkAxCauhkXc",
        "outputId": "71ec51dc-cae7-4a5d-8e21-e0b94a667558"
      },
      "execution_count": 7,
      "outputs": [
        {
          "output_type": "stream",
          "name": "stdout",
          "text": [
            "Mean Absolute Error (MAE): 1.4948428986251594\n",
            "Mean Squared Error (MSE): 3.320365741615857\n",
            "R-squared Score: 0.8798525258120596\n"
          ]
        }
      ]
    },
    {
      "cell_type": "code",
      "source": [
        "# Plot data points\n",
        "plt.scatter(X, y, color=\"blue\", label=\"Actual Data\")\n",
        "\n",
        "# Plot regression line\n",
        "plt.plot(X, lr.predict(X), color=\"red\", linewidth=2, label=\"Regression Line\")\n",
        "\n",
        "# Labels and title\n",
        "plt.xlabel(\"Study Hours\")\n",
        "plt.ylabel(\"Exam Score\")\n",
        "plt.title(\"Simple Linear Regression: Study Hours vs Exam Score\")\n",
        "plt.legend()\n",
        "plt.show()\n"
      ],
      "metadata": {
        "colab": {
          "base_uri": "https://localhost:8080/",
          "height": 472
        },
        "id": "TLHqpeA0hmGT",
        "outputId": "084658e9-ec9f-4387-80e2-77662bc565ec"
      },
      "execution_count": 8,
      "outputs": [
        {
          "output_type": "display_data",
          "data": {
            "text/plain": [
              "<Figure size 640x480 with 1 Axes>"
            ],
            "image/png": "[encoded data removed]"
          },
          "metadata": {}
        }
      ]
    },
    {
      "cell_type": "code",
      "source": [
        "# Predict score for a student who studies 6 hours\n",
        "new_study_hours = np.array([[6]])\n",
        "predicted_score = lr.predict(new_study_hours)\n",
        "print(f\"Predicted Exam Score for 6 Study Hours: {predicted_score[0][0]:.2f}\")\n"
      ],
      "metadata": {
        "colab": {
          "base_uri": "https://localhost:8080/"
        },
        "id": "-eqerD2Nhxjg",
        "outputId": "d1aa7a3d-3aa2-4eb8-8278-b4e68203ca67"
      },
      "execution_count": 9,
      "outputs": [
        {
          "output_type": "stream",
          "name": "stdout",
          "text": [
            "Predicted Exam Score for 6 Study Hours: 12.01\n"
          ]
        }
      ]
    }
  ]
}